{
 "cells": [
  {
   "cell_type": "code",
   "execution_count": 133,
   "id": "7975fd40",
   "metadata": {},
   "outputs": [
    {
     "name": "stdout",
     "output_type": "stream",
     "text": [
      "Defining x0, x1, x2, x3, x4, x5, x6, x7, x8, x9, x10, x11, x12, x13, x14, x15, x16, x17, x18, x19, x20, x21, x22, x23, x24, x25, x26, x27, x28, x29, x30, x31, x32, x33, x34, x35, x36, x37, x38, x39, x40, x41, x42, x43, x44, x45, x46, x47, x48, x49, x50, x51, x52, x53, x54, x55, x56, x57, x58, x59, x60, x61, x62, x63\n"
     ]
    }
   ],
   "source": [
    "B = BooleanPolynomialRing(64, 'x', order = 'degrevlex')\n",
    "B.inject_variables()"
   ]
  },
  {
   "cell_type": "code",
   "execution_count": 134,
   "id": "41145d16",
   "metadata": {},
   "outputs": [],
   "source": [
    "gamma_file = open('R/Gamma_V5.txt', 'r')\n",
    "gamma = gamma_file.readlines()[0]\n",
    "gamma_file.close()\n",
    "\n",
    "filter_file = open('R/Filter_V5.txt', 'r')\n",
    "filter_f = filter_file.readlines()[0].replace('} x', '*x').replace('_{', '').replace('} + ', ' + ')\n",
    "filter_file.close()\n",
    "\n",
    "p = 'x64 ⊕ x63 ⊕ x62 ⊕ x60 ⊕ x59 ⊕ x58 ⊕ x57 ⊕ x56 ⊕ x53 ⊕ x50 ⊕ x47 ⊕ x45 ⊕ x44 ⊕'\\\n",
    "    'x43⊕ x42 ⊕ x41 ⊕ x40 ⊕ x39 ⊕ x38 ⊕ x37 ⊕ x36 ⊕ x34 ⊕ x32 ⊕ x30 ⊕ x28 ⊕ x24 ⊕ x18'\\\n",
    "    '⊕ x15 ⊕ x14 ⊕ x13 ⊕ x11 ⊕ x9 ⊕ x6 ⊕ x4 ⊕ 1'.replace('x', 'x^').replace('⊕', '+')"
   ]
  },
  {
   "cell_type": "code",
   "execution_count": 135,
   "id": "bb087e70",
   "metadata": {},
   "outputs": [
    {
     "name": "stdout",
     "output_type": "stream",
     "text": [
      "f =  x2*x3*x6*x7*x13*x19*x20*x22*x23*x24*x26*x38*x41*x45*x47*x48*x51*x54*x58 + x3*x6*x7*x13*x19*x20*x22*x23*x24*x26*x38*x41*x45*x47*x48*x51*x54*x58 + x3*x6*x7*x13*x19*x20*x22*x23*x24*x26*x38*x41*x45*x48*x51*x54*x58 + x3*x6*x7*x13*x19*x22*x23*x24*x26*x38*x41*x43*x45*x48*x51*x54*x58 + x2*x3*x6*x7*x13*x19*x22*x23*x24*x38*x41*x45*x48*x51*x54*x58 + x3*x6*x7*x13*x19*x22*x23*x24*x26*x38*x41*x45*x48*x51*x54*x58 + x3*x6*x7*x13*x19*x22*x23*x24*x38*x41*x43*x45*x48*x51*x54*x58 + x2*x3*x6*x7*x13*x19*x22*x23*x24*x38*x41*x45*x48*x51*x54 + x3*x6*x7*x13*x19*x22*x23*x24*x37*x38*x41*x45*x48*x51*x54 + x3*x6*x7*x13*x19*x22*x23*x24*x38*x41*x45*x48*x51*x54*x58 + x3*x6*x7*x13*x19*x22*x23*x24*x38*x41*x45*x48*x51*x54 + x3*x6*x7*x13*x19*x22*x24*x37*x38*x41*x45*x48*x51*x54 + x3*x6*x7*x11*x13*x19*x22*x24*x38*x45*x48*x51 + x3*x6*x7*x11*x19*x22*x24*x38*x45*x48*x51 + x3*x6*x7*x13*x19*x22*x24*x38*x45*x48*x51 + x3*x6*x7*x19*x22*x24*x38*x40*x45*x48*x51 + x3*x6*x7*x19*x22*x24*x38*x40*x45*x48 + x2*x3*x6*x7*x19*x24*x38*x45*x48 + x2*x3*x6*x7*x19*x24*x38*x48 + x3*x5*x6*x7*x19*x24*x38*x48 + x3*x6*x7*x19*x24*x38*x45*x48 + x3*x5*x6*x7*x19*x24*x48 + x3*x6*x7*x19*x24*x38*x48 + x3*x6*x7*x19*x24*x48*x60 + x1*x3*x6*x19*x24*x48 + x3*x6*x19*x24*x48*x60 + x1*x3*x6*x19*x24 + x3*x6*x19*x24*x39 + x3*x6*x19*x24*x48 + x3*x6*x12*x24 + x3*x6*x24*x39 + x3*x6*x12 + x3*x6*x43 + x6*x28 + x6*x43 + x6 + x28 + 1\n"
     ]
    }
   ],
   "source": [
    "print('f = ', filter_f)"
   ]
  },
  {
   "cell_type": "code",
   "execution_count": 136,
   "id": "9f312c91",
   "metadata": {},
   "outputs": [],
   "source": [
    "#f = filter_f\n",
    "f = x2*x3*x6*x7*x13*x19*x20*x22*x23*x24*x26*x38*x41*x45*x47*x48*x51*x54*x58 + x3*x6*x7*x13*x19*x20*x22*x23*x24*x26*x38*x41*x45*x47*x48*x51*x54*x58 + x3*x6*x7*x13*x19*x20*x22*x23*x24*x26*x38*x41*x45*x48*x51*x54*x58 + x3*x6*x7*x13*x19*x22*x23*x24*x26*x38*x41*x43*x45*x48*x51*x54*x58 + x2*x3*x6*x7*x13*x19*x22*x23*x24*x38*x41*x45*x48*x51*x54*x58 + x3*x6*x7*x13*x19*x22*x23*x24*x26*x38*x41*x45*x48*x51*x54*x58 + x3*x6*x7*x13*x19*x22*x23*x24*x38*x41*x43*x45*x48*x51*x54*x58 + x2*x3*x6*x7*x13*x19*x22*x23*x24*x38*x41*x45*x48*x51*x54 + x3*x6*x7*x13*x19*x22*x23*x24*x37*x38*x41*x45*x48*x51*x54 + x3*x6*x7*x13*x19*x22*x23*x24*x38*x41*x45*x48*x51*x54*x58 + x3*x6*x7*x13*x19*x22*x23*x24*x38*x41*x45*x48*x51*x54 + x3*x6*x7*x13*x19*x22*x24*x37*x38*x41*x45*x48*x51*x54 + x3*x6*x7*x11*x13*x19*x22*x24*x38*x45*x48*x51 + x3*x6*x7*x11*x19*x22*x24*x38*x45*x48*x51 + x3*x6*x7*x13*x19*x22*x24*x38*x45*x48*x51 + x3*x6*x7*x19*x22*x24*x38*x40*x45*x48*x51 + x3*x6*x7*x19*x22*x24*x38*x40*x45*x48 + x2*x3*x6*x7*x19*x24*x38*x45*x48 + x2*x3*x6*x7*x19*x24*x38*x48 + x3*x5*x6*x7*x19*x24*x38*x48 + x3*x6*x7*x19*x24*x38*x45*x48 + x3*x5*x6*x7*x19*x24*x48 + x3*x6*x7*x19*x24*x38*x48 + x3*x6*x7*x19*x24*x48*x60 + x1*x3*x6*x19*x24*x48 + x3*x6*x19*x24*x48*x60 + x1*x3*x6*x19*x24 + x3*x6*x19*x24*x39 + x3*x6*x19*x24*x48 + x3*x6*x12*x24 + x3*x6*x24*x39 + x3*x6*x12 + x3*x6*x43 + x6*x28 + x6*x43 + x6 + x28 + 1"
   ]
  },
  {
   "cell_type": "markdown",
   "id": "82578b5e",
   "metadata": {},
   "source": [
    "Базиси Грьобнера ідеалів $<f>, <f\\oplus 1>$"
   ]
  },
  {
   "cell_type": "code",
   "execution_count": 137,
   "id": "2dc9c870",
   "metadata": {},
   "outputs": [
    {
     "name": "stdout",
     "output_type": "stream",
     "text": [
      "CPU times: user 2min 29s, sys: 818 ms, total: 2min 30s\n",
      "Wall time: 2min 35s\n",
      "Polynomial Sequence with 7423 Polynomials in 29 Variables\n"
     ]
    }
   ],
   "source": [
    "I = Ideal(f)\n",
    "%time GB = I.groebner_basis()\n",
    "print(GB)"
   ]
  },
  {
   "cell_type": "code",
   "execution_count": 138,
   "id": "ecef4ec7",
   "metadata": {},
   "outputs": [
    {
     "name": "stdout",
     "output_type": "stream",
     "text": [
      "CPU times: user 4min 9s, sys: 2.48 s, total: 4min 11s\n",
      "Wall time: 4min 21s\n",
      "Polynomial Sequence with 8191 Polynomials in 29 Variables\n"
     ]
    }
   ],
   "source": [
    "Ixor1 = Ideal(f + 1)\n",
    "%time GBxor1 = Ixor1.groebner_basis()\n",
    "print(GBxor1)"
   ]
  },
  {
   "cell_type": "code",
   "execution_count": 139,
   "id": "e0d496cc",
   "metadata": {},
   "outputs": [
    {
     "name": "stdout",
     "output_type": "stream",
     "text": [
      "AI(f) =  2\n"
     ]
    }
   ],
   "source": [
    "AI = min([poly.deg() for poly in GB + GBxor1])\n",
    "print('AI(f) = ', AI)"
   ]
  },
  {
   "cell_type": "code",
   "execution_count": 140,
   "id": "370682cc",
   "metadata": {},
   "outputs": [],
   "source": [
    "min_deg_poly = [poly for poly in GB + GBxor1 if poly.deg() == AI]"
   ]
  },
  {
   "cell_type": "code",
   "execution_count": 141,
   "id": "597ce9b9",
   "metadata": {},
   "outputs": [
    {
     "name": "stdout",
     "output_type": "stream",
     "text": [
      "h_1 =  x28*x6 + x6 + x28 + 1\n",
      "h_2 =  x28*x6 + x28\n"
     ]
    }
   ],
   "source": [
    "print('h_1 = ', min_deg_poly[0])\n",
    "print('h_2 = ', min_deg_poly[1])"
   ]
  },
  {
   "cell_type": "code",
   "execution_count": 142,
   "id": "bc4412e0",
   "metadata": {},
   "outputs": [],
   "source": [
    "C = companion_matrix(B['x'](p), format = 'bottom')"
   ]
  },
  {
   "cell_type": "code",
   "execution_count": 143,
   "id": "47eb1d52",
   "metadata": {},
   "outputs": [
    {
     "name": "stdout",
     "output_type": "stream",
     "text": [
      "CPU times: user 3.33 s, sys: 994 µs, total: 3.33 s\n",
      "Wall time: 3.38 s\n"
     ]
    }
   ],
   "source": [
    "%%time\n",
    "current_state = vector(B, (x0, x1, x2, x3, x4, x5, x6, x7, x8, x9, x10, x11, x12, x13, x14, x15, x16, x17, x18, x19, x20, x21, \n",
    "                           x22, x23, x24, x25, x26, x27, x28, x29, x30, x31, x32, x33, x34, x35, x36, x37, x38, x39, x40, x41, \n",
    "                           x42, x43, x44, x45, x46, x47, x48, x49, x50, x51, x52, x53, x54, x55, x56, x57, x58, x59, x60, x61, \n",
    "                           x62, x63))\n",
    "system = []\n",
    "for i in range(900):\n",
    "    current_state = C*current_state\n",
    "    system.append(min_deg_poly[int(gamma[i])](*current_state))"
   ]
  },
  {
   "cell_type": "code",
   "execution_count": 144,
   "id": "7093bb3d",
   "metadata": {},
   "outputs": [
    {
     "name": "stdout",
     "output_type": "stream",
     "text": [
      "x29*x7 + x29 = 1\n",
      "x30*x8 + x8 + x30 + 1 = 0\n",
      "x31*x9 + x31 = 1\n",
      "x32*x10 + x32 = 1\n",
      "x33*x11 + x33 = 1\n",
      "x34*x12 + x34 = 1\n",
      "x35*x13 + x35 = 1\n",
      "x36*x14 + x36 = 1\n",
      "x37*x15 + x15 + x37 + 1 = 0\n",
      "x38*x16 + x16 + x38 + 1 = 0\n"
     ]
    }
   ],
   "source": [
    "for i in range(10):\n",
    "    print(f'{system[i]} = ' + gamma[i])"
   ]
  },
  {
   "cell_type": "code",
   "execution_count": 145,
   "id": "a4d90071",
   "metadata": {},
   "outputs": [
    {
     "name": "stdout",
     "output_type": "stream",
     "text": [
      "CPU times: user 2min 19s, sys: 818 ms, total: 2min 20s\n",
      "Wall time: 2min 25s\n"
     ]
    }
   ],
   "source": [
    "%time GBsys = Ideal(system).groebner_basis()\n",
    "initial_state = [int(b.has_constant_part()) for b in GBsys]"
   ]
  },
  {
   "cell_type": "code",
   "execution_count": 146,
   "id": "62476f47",
   "metadata": {},
   "outputs": [
    {
     "name": "stdout",
     "output_type": "stream",
     "text": [
      "Початковий стан:  0100110000111110001110101111101000000111010110111111001101101000\n"
     ]
    }
   ],
   "source": [
    "print('Початковий стан: ', ''.join(str(s) for s in initial_state))"
   ]
  },
  {
   "cell_type": "markdown",
   "id": "3de0d7b9",
   "metadata": {},
   "source": [
    "Перевірка: "
   ]
  },
  {
   "cell_type": "code",
   "execution_count": 149,
   "id": "7af40b8a",
   "metadata": {},
   "outputs": [],
   "source": [
    "current_state = vector(B, initial_state)\n",
    "gamma_ = ''\n",
    "while len(gamma_) < 1000:\n",
    "    current_state = C*current_state\n",
    "    gamma_ += str(f(*current_state))"
   ]
  },
  {
   "cell_type": "code",
   "execution_count": 150,
   "id": "037ef0b4",
   "metadata": {},
   "outputs": [
    {
     "data": {
      "text/plain": [
       "True"
      ]
     },
     "execution_count": 150,
     "metadata": {},
     "output_type": "execute_result"
    }
   ],
   "source": [
    "gamma_ == gamma[:1000]"
   ]
  },
  {
   "cell_type": "code",
   "execution_count": null,
   "id": "55b7e6c1",
   "metadata": {},
   "outputs": [],
   "source": []
  }
 ],
 "metadata": {
  "kernelspec": {
   "display_name": "SageMath 9.4",
   "language": "sage",
   "name": "sagemath"
  },
  "language_info": {
   "codemirror_mode": {
    "name": "ipython",
    "version": 3
   },
   "file_extension": ".py",
   "mimetype": "text/x-python",
   "name": "python",
   "nbconvert_exporter": "python",
   "pygments_lexer": "ipython3",
   "version": "3.9.7"
  }
 },
 "nbformat": 4,
 "nbformat_minor": 5
}
