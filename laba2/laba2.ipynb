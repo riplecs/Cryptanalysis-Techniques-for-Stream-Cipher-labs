{
 "cells": [
  {
   "cell_type": "code",
   "execution_count": 1,
   "id": "4aef077f",
   "metadata": {},
   "outputs": [],
   "source": [
    "import math"
   ]
  },
  {
   "cell_type": "code",
   "execution_count": 2,
   "id": "a18d2a8b",
   "metadata": {},
   "outputs": [],
   "source": [
    "gamma_file = open('Gamma2_V5.txt', 'r')\n",
    "gamma = gamma_file.readlines()[0]\n",
    "GAMMA = list(map(int, list(gamma)))\n",
    "gamma_file.close()\n",
    "\n",
    "сomb_file = open('CombFunc_V5.txt', 'r')\n",
    "comb_f = сomb_file.readlines()[0].replace('} x', '*x').replace('_{', '').replace('}', '').replace('+', '⊕')\n",
    "сomb_file.close()"
   ]
  },
  {
   "cell_type": "code",
   "execution_count": 3,
   "id": "d1485ab9",
   "metadata": {},
   "outputs": [
    {
     "name": "stdout",
     "output_type": "stream",
     "text": [
      "f =  x0*x2*x5 ⊕ x1*x2*x5 ⊕ x1*x5 ⊕ x2*x3*x5 ⊕ x2*x4*x5 ⊕ x2*x5 ⊕ x2 ⊕ x4*x5\n"
     ]
    }
   ],
   "source": [
    "print('f = ', comb_f)"
   ]
  },
  {
   "cell_type": "code",
   "execution_count": 4,
   "id": "883ab108",
   "metadata": {},
   "outputs": [],
   "source": [
    "comb_f = lambda x0, x1, x2, x3, x4, x5: (x0*x2*x5 + x1*x2*x5 + x1*x5 + x2*x3*x5 + x2*x4*x5 + x2*x5 + x2 + x4*x5)%2"
   ]
  },
  {
   "cell_type": "code",
   "execution_count": 5,
   "id": "86656f7c",
   "metadata": {},
   "outputs": [],
   "source": [
    "def int_to_bin(num, l):\n",
    "    num = bin(num)[2:]\n",
    "    while len(num) < l:\n",
    "        num = '0' + num\n",
    "    return [int(n) for n in num]"
   ]
  },
  {
   "cell_type": "code",
   "execution_count": 6,
   "id": "7e1a311d",
   "metadata": {},
   "outputs": [],
   "source": [
    "def dot(x, y):\n",
    "    x, y = int_to_bin(x, 6), int_to_bin(y, 6)\n",
    "    return sum(x[i]*y[i] for i in range(6))%2"
   ]
  },
  {
   "cell_type": "code",
   "execution_count": 7,
   "id": "e6e72d1c",
   "metadata": {},
   "outputs": [
    {
     "data": {
      "text/plain": [
       "True"
      ]
     },
     "execution_count": 7,
     "metadata": {},
     "output_type": "execute_result"
    }
   ],
   "source": [
    "coefs = [sum((-1)**((comb_f(*int_to_bin(x, 6)) + dot(alpha, x))%2) for x in range(2**6)) for alpha in range(2**6)]\n",
    "sum(c**2 for c in coefs) == 2**(2*6)"
   ]
  },
  {
   "cell_type": "code",
   "execution_count": 8,
   "id": "c8c2f0a7",
   "metadata": {},
   "outputs": [
    {
     "name": "stdout",
     "output_type": "stream",
     "text": [
      "α = 8,  W_f(α) = 32\n",
      "α = 9,  W_f(α) = 32\n",
      "α = 18,  W_f(α) = 16\n",
      "α = 19,  W_f(α) = -16\n",
      "α = 26,  W_f(α) = 16\n",
      "α = 27,  W_f(α) = -16\n",
      "α = 36,  W_f(α) = 16\n",
      "α = 37,  W_f(α) = -16\n",
      "α = 44,  W_f(α) = -16\n",
      "α = 45,  W_f(α) = 16\n"
     ]
    }
   ],
   "source": [
    "non_zero_coefs_dict = {i: coefs[i] for i in range(2**6) if coefs[i] != 0}\n",
    "for alpha in non_zero_coefs_dict:\n",
    "    print(f'α = {alpha},  W_f(α) = {non_zero_coefs_dict[alpha]}')"
   ]
  },
  {
   "cell_type": "code",
   "execution_count": 9,
   "id": "50048f66",
   "metadata": {},
   "outputs": [
    {
     "name": "stdout",
     "output_type": "stream",
     "text": [
      "cor(f) = 0\n"
     ]
    }
   ],
   "source": [
    "weigths = [sum(list(map(int, bin(i)[2:]))) for i in range(2**6)]\n",
    "sorted_weigths, sorted_coefs = zip(*sorted(zip(weigths, coefs)))\n",
    "for i in range(2**6):\n",
    "    if sorted_coefs[i] != 0:\n",
    "        print('cor(f) =', sorted_weigths[i] - 1)\n",
    "        break"
   ]
  },
  {
   "cell_type": "code",
   "execution_count": 10,
   "id": "edc31c5d",
   "metadata": {},
   "outputs": [
    {
     "name": "stdout",
     "output_type": "stream",
     "text": [
      "1) g = x2  , Pr{f(x) = g(x)} = 3/4\n",
      "2) g = x2 ⊕ x5  , Pr{f(x) = g(x)} = 3/4\n",
      "3) g = x1 ⊕ x4  , Pr{f(x) = g(x)} = 5/8\n",
      "4) g = x1 ⊕ x4 ⊕ x5 ⊕ 1 , Pr{f(x) = g(x)} = 5/8\n",
      "5) g = x1 ⊕ x2 ⊕ x4  , Pr{f(x) = g(x)} = 5/8\n",
      "6) g = x1 ⊕ x2 ⊕ x4 ⊕ x5 ⊕ 1 , Pr{f(x) = g(x)} = 5/8\n",
      "7) g = x0 ⊕ x3  , Pr{f(x) = g(x)} = 5/8\n",
      "8) g = x0 ⊕ x3 ⊕ x5 ⊕ 1 , Pr{f(x) = g(x)} = 5/8\n",
      "9) g = x0 ⊕ x2 ⊕ x3 ⊕ 1 , Pr{f(x) = g(x)} = 5/8\n",
      "10) g = x0 ⊕ x2 ⊕ x3 ⊕ x5  , Pr{f(x) = g(x)} = 5/8\n"
     ]
    }
   ],
   "source": [
    "j = 1\n",
    "for alpha in non_zero_coefs_dict:\n",
    "    c = 1 if non_zero_coefs_dict[alpha] < 0 else 0\n",
    "    a = int_to_bin(alpha, 6)\n",
    "    g = ''.join(f'x{i} ⊕ ' for i in range(6) if a[i] == 1)[:-2] + (f'⊕ {c}' if c == 1 else '')\n",
    "    print(f'{j}) g =', g, ', Pr{f(x) = g(x)} =', (1 + (-1)**c*non_zero_coefs_dict[alpha]/2**6)/2)\n",
    "    j+= 1"
   ]
  },
  {
   "cell_type": "code",
   "execution_count": 12,
   "id": "dd8c4074",
   "metadata": {},
   "outputs": [],
   "source": [
    "polynomials = [x^10 + x^3 + 1, x^10 + x^7 + 1, x^10 + x^4 + x^3 + x^1 + 1, \n",
    "               x^10 + x^8 + x^3 + x^2 + 1, x^10 + x^8 + x^4 + x^3 + 1, x^10 + x^8 + x^5 + x^1 + 1]\n",
    "polynomials_int_ = [''.join(str(i) for i in poly.list()[:-1]) for poly in polynomials]\n",
    "polynomials_int = [int(''.join(str(i) for i in poly.list()[:-1]), 2) for poly in polynomials]"
   ]
  },
  {
   "cell_type": "code",
   "execution_count": 14,
   "id": "757b0a70",
   "metadata": {},
   "outputs": [],
   "source": [
    "%%cython\n",
    "\n",
    "from libc.stdlib cimport malloc, free\n",
    "\n",
    "cdef int LENGTH = 10\n",
    "\n",
    "def gen_sequence(int poly, int init_state, int nbits):\n",
    "    cdef int curr_state = init_state, s, i, j\n",
    "    cdef int *res_array = <int *>malloc(sizeof(int)*nbits)\n",
    "    try:\n",
    "        for i in range(nbits):\n",
    "            res_array[i] = (curr_state >> (LENGTH - 1))&1\n",
    "            s = 0\n",
    "            for j in range(LENGTH):\n",
    "                s = s^((( curr_state & poly ) >> j)&1)\n",
    "            curr_state = (curr_state << 1)|s\n",
    "        return [x for x in res_array[: nbits]]\n",
    "    finally:\n",
    "        free(res_array)"
   ]
  },
  {
   "cell_type": "code",
   "execution_count": 15,
   "id": "53955eb2",
   "metadata": {},
   "outputs": [],
   "source": [
    "def hamming_dist(list1, list2):\n",
    "    return sum(abs(list1[i] - list2[i]) for i in range(len(list1)))"
   ]
  },
  {
   "cell_type": "markdown",
   "id": "b9169f78",
   "metadata": {},
   "source": [
    "# 1"
   ]
  },
  {
   "cell_type": "markdown",
   "id": "afc95b94",
   "metadata": {},
   "source": [
    "$$g_1\\Longrightarrow g_2\\Longrightarrow g_{6}\\Longrightarrow f$$"
   ]
  },
  {
   "cell_type": "code",
   "execution_count": 11,
   "id": "d9ce4aad",
   "metadata": {},
   "outputs": [],
   "source": [
    "g1 = lambda x2: x2 \n",
    "g2 = lambda x2, x5: (x2 + x5)%2\n",
    "g6 = lambda x1, x2, x4, x5: (x1 + x2 + x4 + x5 + 1)%2\n",
    "\n",
    "T1 = int(8*0.5**(-2)*math.log(2**(10*1)/0.01))\n",
    "T2 = int(8*0.5**(-2)*math.log(2**(10*2)/0.01))\n",
    "T4 = int(8*0.5**(-2)*math.log(2**(10*4)/0.01))"
   ]
  },
  {
   "cell_type": "markdown",
   "id": "2416a62f",
   "metadata": {},
   "source": [
    "$$g_1=x_2$$"
   ]
  },
  {
   "cell_type": "code",
   "execution_count": 28,
   "id": "e7a5b1ef",
   "metadata": {},
   "outputs": [
    {
     "name": "stdout",
     "output_type": "stream",
     "text": [
      "min hamming distance =  0.24390243902439024\n",
      "[X0, X1, X2, X3, X4, X5]:  [-, -, 442, -, -, -]\n",
      "CPU times: user 68.3 ms, sys: 1 ms, total: 69.3 ms\n",
      "Wall time: 70.5 ms\n"
     ]
    }
   ],
   "source": [
    "%%time\n",
    "poss_states = {}\n",
    "for i in range(2**10):\n",
    "    seq = gen_sequence(polynomials_int[2], i, T1)\n",
    "    poss_states[i] = hamming_dist(seq, GAMMA[:T1])\n",
    "dist = min(poss_states.values())\n",
    "print('min hamming distance = ', dist/T1)\n",
    "poss_states = [i for i in poss_states if poss_states[i] == dist]\n",
    "for s in poss_states:\n",
    "    print('[X0, X1, X2, X3, X4, X5]: ', f'[-, -, {s}, -, -, -]') "
   ]
  },
  {
   "cell_type": "markdown",
   "id": "1158e061",
   "metadata": {},
   "source": [
    "$$g_2=x_2 ⊕ x_5$$"
   ]
  },
  {
   "cell_type": "code",
   "execution_count": 29,
   "id": "522675c5",
   "metadata": {},
   "outputs": [
    {
     "name": "stdout",
     "output_type": "stream",
     "text": [
      "min hamming distance =  0.245762711864407\n",
      "[X0, X1, X2, X3, X4, X5]:  [-, -, 442, -, -, 997]\n",
      "CPU times: user 816 ms, sys: 4.01 ms, total: 820 ms\n",
      "Wall time: 819 ms\n"
     ]
    }
   ],
   "source": [
    "%%time\n",
    "seq_x2 = gen_sequence(polynomials_int[2], 442, T2)\n",
    "poss_states = {}\n",
    "for i in range(2**10):\n",
    "    seq_x5 = gen_sequence(polynomials_int[5], i, T2)\n",
    "    seq = [g2(seq_x2[j], seq_x5[j]) for j in range(T2)]\n",
    "    poss_states[i] = hamming_dist(seq, GAMMA[:T2])\n",
    "dist = min(poss_states.values())\n",
    "print('min hamming distance = ', (dist/T2).n())\n",
    "poss_states = [i for i in poss_states if poss_states[i] == dist]\n",
    "for s in poss_states:\n",
    "    print('[X0, X1, X2, X3, X4, X5]: ', f'[-, -, 442, -, -, {s}]') "
   ]
  },
  {
   "cell_type": "markdown",
   "id": "fd44e2df",
   "metadata": {},
   "source": [
    "$$g_6=x_1⊕x_2⊕x_4⊕x_5⊕1$$"
   ]
  },
  {
   "cell_type": "code",
   "execution_count": 30,
   "id": "f048d423",
   "metadata": {},
   "outputs": [
    {
     "name": "stdout",
     "output_type": "stream",
     "text": [
      "min hamming distance =  0.400386847195358\n",
      "[X0, X1, X2, X3, X4, X5]:  [-, 158, 442, -, 33, 997]\n",
      "CPU times: user 28min 3s, sys: 360 ms, total: 28min 3s\n",
      "Wall time: 28min 24s\n"
     ]
    }
   ],
   "source": [
    "%%time\n",
    "seq_x2 = gen_sequence(polynomials_int[2], 442, T4)\n",
    "seq_x5 = gen_sequence(polynomials_int[5], 997, T4)\n",
    "poss_states = {}\n",
    "for i in range(2**10):\n",
    "    seq_x1 = gen_sequence(polynomials_int[1], i, T4)\n",
    "    for j in range(2**10):\n",
    "        seq_x4 = gen_sequence(polynomials_int[4], j, T4)\n",
    "        seq = [g6(seq_x1[k], seq_x2[k], seq_x4[k], seq_x5[k]) for k in range(T4)]\n",
    "        poss_states[(i, j)] = hamming_dist(seq, GAMMA[:T4])\n",
    "dist = min(poss_states.values())\n",
    "print('min hamming distance = ', (dist/T4).n())\n",
    "poss_states = [(i, j) for (i, j) in poss_states if poss_states[(i, j)] == dist]\n",
    "for i, j in poss_states:\n",
    "    print('[X0, X1, X2, X3, X4, X5]: ', f'[-, {i}, 442, -, {j}, 997]') "
   ]
  },
  {
   "cell_type": "markdown",
   "id": "6b428bb8",
   "metadata": {},
   "source": [
    "$$f$$"
   ]
  },
  {
   "cell_type": "code",
   "execution_count": 31,
   "id": "855d4236",
   "metadata": {},
   "outputs": [
    {
     "name": "stdout",
     "output_type": "stream",
     "text": [
      "[X0, X1, X2, X3, X4, X5]:   [830, 158, 442, 287, 33, 997]\n",
      "CPU times: user 1min 52s, sys: 5 ms, total: 1min 52s\n",
      "Wall time: 1min 53s\n"
     ]
    }
   ],
   "source": [
    "%%time\n",
    "seq_x1 = gen_sequence(polynomials_int[1], 158, 100)\n",
    "seq_x2 = gen_sequence(polynomials_int[2], 442, 100)\n",
    "seq_x4 = gen_sequence(polynomials_int[4], 33, 100)\n",
    "seq_x5 = gen_sequence(polynomials_int[5], 997, 100)\n",
    "triger = False\n",
    "for i in range(2**10):\n",
    "    if triger:\n",
    "        break\n",
    "    seq_x0 = gen_sequence(polynomials_int[0], i, 100)\n",
    "    for j in range(2**10):\n",
    "        seq_x3 = gen_sequence(polynomials_int[3], j, 100)\n",
    "        seq = [comb_f(seq_x0[k], seq_x1[k], seq_x2[k], seq_x3[k], seq_x4[k], seq_x5[k]) for k in range(100)]\n",
    "        if seq == GAMMA[:100]:\n",
    "            print('[X0, X1, X2, X3, X4, X5]: ', f' [{i}, 158, 442, {j}, 33, 997]')\n",
    "            triger = True\n",
    "            break"
   ]
  },
  {
   "cell_type": "markdown",
   "id": "3a5f7837",
   "metadata": {},
   "source": [
    "Перевірка для перших 1000 бітів:"
   ]
  },
  {
   "cell_type": "code",
   "execution_count": 24,
   "id": "0a8f8ed0",
   "metadata": {},
   "outputs": [
    {
     "data": {
      "text/plain": [
       "True"
      ]
     },
     "execution_count": 24,
     "metadata": {},
     "output_type": "execute_result"
    }
   ],
   "source": [
    "seq_x0 = gen_sequence(polynomials_int[0], 830, 1000)\n",
    "seq_x1 = gen_sequence(polynomials_int[1], 158, 1000)\n",
    "seq_x2 = gen_sequence(polynomials_int[2], 442, 1000)\n",
    "seq_x3 = gen_sequence(polynomials_int[3], 287, 1000)\n",
    "seq_x4 = gen_sequence(polynomials_int[4], 33, 1000)\n",
    "seq_x5 = gen_sequence(polynomials_int[5], 997, 1000)\n",
    "seq = [comb_f(seq_x0[k], seq_x1[k], seq_x2[k], seq_x3[k], seq_x4[k], seq_x5[k]) for k in range(1000)]\n",
    "seq == GAMMA[:1000]"
   ]
  }
 ],
 "metadata": {
  "kernelspec": {
   "display_name": "SageMath 9.4",
   "language": "sage",
   "name": "sagemath"
  },
  "language_info": {
   "codemirror_mode": {
    "name": "ipython",
    "version": 3
   },
   "file_extension": ".py",
   "mimetype": "text/x-python",
   "name": "python",
   "nbconvert_exporter": "python",
   "pygments_lexer": "ipython3",
   "version": "3.9.7"
  }
 },
 "nbformat": 4,
 "nbformat_minor": 5
}
